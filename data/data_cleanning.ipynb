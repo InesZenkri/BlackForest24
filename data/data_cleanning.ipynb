{
 "cells": [
  {
   "cell_type": "code",
   "outputs": [],
   "source": [
    "import pandas as pd\n",
    "import sqlite3"
   ],
   "metadata": {
    "collapsed": false,
    "ExecuteTime": {
     "end_time": "2024-10-11T22:46:07.543160800Z",
     "start_time": "2024-10-11T22:46:07.233360800Z"
    }
   },
   "id": "5b9c7106634ba87",
   "execution_count": 1
  },
  {
   "cell_type": "code",
   "outputs": [
    {
     "data": {
      "text/plain": "          item_id measure_code         description  waregroup  sold_units  \\\n0               0      Unknown             Unknown          0     19769.0   \n1       144428003           ST      DENTINOX GEL N     491107         3.0   \n2       166665000          KOA  WITTM.MIWA 12X0,7L     420401       245.0   \n3       729887003           ST    BIOG.HUEHN.SUPPE     220309         6.0   \n4      1500358004           ST  P.SYST.SNACK POWER     210308        16.0   \n...           ...          ...                 ...        ...         ...   \n43928  5883353003           ST          G&G TELLER     660103         1.0   \n43929  6044199007           ST      SIX HAARSPANGE     600602         3.0   \n43930  6386308000           ST  B.LANA HANDST.GARN     580802        10.0   \n43931  6413104001           ST         TASCHENBUCH     680202         3.0   \n43932  6462121008           ST       TCM PLATZSETS     580304         5.0   \n\n       sales_euro  min_article_price  max_article_price  advertised_price  \\\n0       107467.13               0.00              77.01              0.00   \n1           18.47               5.99               6.49              0.00   \n2         1011.45               0.49               4.99              0.00   \n3           19.14               3.19               3.19              0.00   \n4           22.64               1.29               1.69              0.00   \n...           ...                ...                ...               ...   \n43928        3.99               3.99               3.99              0.00   \n43929       17.97               5.99               5.99              0.00   \n43930       14.90               1.49               1.49              1.49   \n43931       38.97              12.99              12.99              0.00   \n43932       49.95               9.99               9.99              0.00   \n\n      currently_advertised  ...  zzarztfrei zzfett_gehalt  zzalkgehalt  \\\n0                  Unknown  ...     Unknown           0.0      Unknown   \n1                  Unknown  ...     Unknown           0.0      Unknown   \n2                  Unknown  ...          BB           0.0      Unknown   \n3                  Unknown  ...     Unknown           0.0      Unknown   \n4                  Unknown  ...     Unknown           0.0      Unknown   \n...                    ...  ...         ...           ...          ...   \n43928              Unknown  ...     Unknown           0.0      Unknown   \n43929              Unknown  ...     Unknown           0.0      Unknown   \n43930                 True  ...     Unknown           0.0      Unknown   \n43931              Unknown  ...     Unknown           0.0      Unknown   \n43932              Unknown  ...     Unknown           0.0      Unknown   \n\n      zzmaktx  zzverkehrsbez  zzdiaet                         zzvegan  \\\n0         0.0            0.0      0.0                         Unknown   \n1         1.0            0.0      0.0              DENTINOX GEL N 10G   \n2         0.0            0.0      0.0           WITTM.CLASSIC 0,7L MW   \n3         0.0            0.0      0.0         BIOG.HUEHNER-SUPPE 125G   \n4         0.0            0.0      0.0  P.SYST.SN.POWER D.CHOC.BAR 45G   \n...       ...            ...      ...                             ...   \n43928     0.0            0.0      0.0          G&G TELLER TIEF 20,5CM   \n43929     0.0            0.0      0.0           SIX GROSSE HAARSPANGE   \n43930     0.0            0.0      0.0   B.LANA HANDST.GARN MARATH.50G   \n43931     0.0            0.0      0.0                   SCHWARZE DAME   \n43932     0.0            0.0      0.0          TCM PLATZSETS RUND 4ST   \n\n                                         zzverkehrsbez_2  zzdiaet_2  zzvegan_2  \n0                                                Unknown        0.0        0.0  \n1                                     Dentinox Gel N 10g        0.0        0.0  \n2                        Wittmannsthaler Classic 0,7l MW        0.0        0.0  \n3                      Biogourmet Hühner-Suppe klar 125g        0.0        0.0  \n4      Power System Professional Performance Snack Po...        0.0        0.0  \n...                                                  ...        ...        ...  \n43928                     GUT&GÜNSTIG Teller tief 20,5cm        0.0        0.0  \n43929                               SIX große Haarspange        0.0        0.0  \n43930          BellaLana Handstrickgarn Marathon 309 50g        0.0        0.0  \n43931                                      Schwarze Dame        0.0        0.0  \n43932                             TCM Platzsets rund 4ST        0.0        0.0  \n\n[43933 rows x 30 columns]",
      "text/html": "<div>\n<style scoped>\n    .dataframe tbody tr th:only-of-type {\n        vertical-align: middle;\n    }\n\n    .dataframe tbody tr th {\n        vertical-align: top;\n    }\n\n    .dataframe thead th {\n        text-align: right;\n    }\n</style>\n<table border=\"1\" class=\"dataframe\">\n  <thead>\n    <tr style=\"text-align: right;\">\n      <th></th>\n      <th>item_id</th>\n      <th>measure_code</th>\n      <th>description</th>\n      <th>waregroup</th>\n      <th>sold_units</th>\n      <th>sales_euro</th>\n      <th>min_article_price</th>\n      <th>max_article_price</th>\n      <th>advertised_price</th>\n      <th>currently_advertised</th>\n      <th>...</th>\n      <th>zzarztfrei</th>\n      <th>zzfett_gehalt</th>\n      <th>zzalkgehalt</th>\n      <th>zzmaktx</th>\n      <th>zzverkehrsbez</th>\n      <th>zzdiaet</th>\n      <th>zzvegan</th>\n      <th>zzverkehrsbez_2</th>\n      <th>zzdiaet_2</th>\n      <th>zzvegan_2</th>\n    </tr>\n  </thead>\n  <tbody>\n    <tr>\n      <th>0</th>\n      <td>0</td>\n      <td>Unknown</td>\n      <td>Unknown</td>\n      <td>0</td>\n      <td>19769.0</td>\n      <td>107467.13</td>\n      <td>0.00</td>\n      <td>77.01</td>\n      <td>0.00</td>\n      <td>Unknown</td>\n      <td>...</td>\n      <td>Unknown</td>\n      <td>0.0</td>\n      <td>Unknown</td>\n      <td>0.0</td>\n      <td>0.0</td>\n      <td>0.0</td>\n      <td>Unknown</td>\n      <td>Unknown</td>\n      <td>0.0</td>\n      <td>0.0</td>\n    </tr>\n    <tr>\n      <th>1</th>\n      <td>144428003</td>\n      <td>ST</td>\n      <td>DENTINOX GEL N</td>\n      <td>491107</td>\n      <td>3.0</td>\n      <td>18.47</td>\n      <td>5.99</td>\n      <td>6.49</td>\n      <td>0.00</td>\n      <td>Unknown</td>\n      <td>...</td>\n      <td>Unknown</td>\n      <td>0.0</td>\n      <td>Unknown</td>\n      <td>1.0</td>\n      <td>0.0</td>\n      <td>0.0</td>\n      <td>DENTINOX GEL N 10G</td>\n      <td>Dentinox Gel N 10g</td>\n      <td>0.0</td>\n      <td>0.0</td>\n    </tr>\n    <tr>\n      <th>2</th>\n      <td>166665000</td>\n      <td>KOA</td>\n      <td>WITTM.MIWA 12X0,7L</td>\n      <td>420401</td>\n      <td>245.0</td>\n      <td>1011.45</td>\n      <td>0.49</td>\n      <td>4.99</td>\n      <td>0.00</td>\n      <td>Unknown</td>\n      <td>...</td>\n      <td>BB</td>\n      <td>0.0</td>\n      <td>Unknown</td>\n      <td>0.0</td>\n      <td>0.0</td>\n      <td>0.0</td>\n      <td>WITTM.CLASSIC 0,7L MW</td>\n      <td>Wittmannsthaler Classic 0,7l MW</td>\n      <td>0.0</td>\n      <td>0.0</td>\n    </tr>\n    <tr>\n      <th>3</th>\n      <td>729887003</td>\n      <td>ST</td>\n      <td>BIOG.HUEHN.SUPPE</td>\n      <td>220309</td>\n      <td>6.0</td>\n      <td>19.14</td>\n      <td>3.19</td>\n      <td>3.19</td>\n      <td>0.00</td>\n      <td>Unknown</td>\n      <td>...</td>\n      <td>Unknown</td>\n      <td>0.0</td>\n      <td>Unknown</td>\n      <td>0.0</td>\n      <td>0.0</td>\n      <td>0.0</td>\n      <td>BIOG.HUEHNER-SUPPE 125G</td>\n      <td>Biogourmet Hühner-Suppe klar 125g</td>\n      <td>0.0</td>\n      <td>0.0</td>\n    </tr>\n    <tr>\n      <th>4</th>\n      <td>1500358004</td>\n      <td>ST</td>\n      <td>P.SYST.SNACK POWER</td>\n      <td>210308</td>\n      <td>16.0</td>\n      <td>22.64</td>\n      <td>1.29</td>\n      <td>1.69</td>\n      <td>0.00</td>\n      <td>Unknown</td>\n      <td>...</td>\n      <td>Unknown</td>\n      <td>0.0</td>\n      <td>Unknown</td>\n      <td>0.0</td>\n      <td>0.0</td>\n      <td>0.0</td>\n      <td>P.SYST.SN.POWER D.CHOC.BAR 45G</td>\n      <td>Power System Professional Performance Snack Po...</td>\n      <td>0.0</td>\n      <td>0.0</td>\n    </tr>\n    <tr>\n      <th>...</th>\n      <td>...</td>\n      <td>...</td>\n      <td>...</td>\n      <td>...</td>\n      <td>...</td>\n      <td>...</td>\n      <td>...</td>\n      <td>...</td>\n      <td>...</td>\n      <td>...</td>\n      <td>...</td>\n      <td>...</td>\n      <td>...</td>\n      <td>...</td>\n      <td>...</td>\n      <td>...</td>\n      <td>...</td>\n      <td>...</td>\n      <td>...</td>\n      <td>...</td>\n      <td>...</td>\n    </tr>\n    <tr>\n      <th>43928</th>\n      <td>5883353003</td>\n      <td>ST</td>\n      <td>G&amp;G TELLER</td>\n      <td>660103</td>\n      <td>1.0</td>\n      <td>3.99</td>\n      <td>3.99</td>\n      <td>3.99</td>\n      <td>0.00</td>\n      <td>Unknown</td>\n      <td>...</td>\n      <td>Unknown</td>\n      <td>0.0</td>\n      <td>Unknown</td>\n      <td>0.0</td>\n      <td>0.0</td>\n      <td>0.0</td>\n      <td>G&amp;G TELLER TIEF 20,5CM</td>\n      <td>GUT&amp;GÜNSTIG Teller tief 20,5cm</td>\n      <td>0.0</td>\n      <td>0.0</td>\n    </tr>\n    <tr>\n      <th>43929</th>\n      <td>6044199007</td>\n      <td>ST</td>\n      <td>SIX HAARSPANGE</td>\n      <td>600602</td>\n      <td>3.0</td>\n      <td>17.97</td>\n      <td>5.99</td>\n      <td>5.99</td>\n      <td>0.00</td>\n      <td>Unknown</td>\n      <td>...</td>\n      <td>Unknown</td>\n      <td>0.0</td>\n      <td>Unknown</td>\n      <td>0.0</td>\n      <td>0.0</td>\n      <td>0.0</td>\n      <td>SIX GROSSE HAARSPANGE</td>\n      <td>SIX große Haarspange</td>\n      <td>0.0</td>\n      <td>0.0</td>\n    </tr>\n    <tr>\n      <th>43930</th>\n      <td>6386308000</td>\n      <td>ST</td>\n      <td>B.LANA HANDST.GARN</td>\n      <td>580802</td>\n      <td>10.0</td>\n      <td>14.90</td>\n      <td>1.49</td>\n      <td>1.49</td>\n      <td>1.49</td>\n      <td>True</td>\n      <td>...</td>\n      <td>Unknown</td>\n      <td>0.0</td>\n      <td>Unknown</td>\n      <td>0.0</td>\n      <td>0.0</td>\n      <td>0.0</td>\n      <td>B.LANA HANDST.GARN MARATH.50G</td>\n      <td>BellaLana Handstrickgarn Marathon 309 50g</td>\n      <td>0.0</td>\n      <td>0.0</td>\n    </tr>\n    <tr>\n      <th>43931</th>\n      <td>6413104001</td>\n      <td>ST</td>\n      <td>TASCHENBUCH</td>\n      <td>680202</td>\n      <td>3.0</td>\n      <td>38.97</td>\n      <td>12.99</td>\n      <td>12.99</td>\n      <td>0.00</td>\n      <td>Unknown</td>\n      <td>...</td>\n      <td>Unknown</td>\n      <td>0.0</td>\n      <td>Unknown</td>\n      <td>0.0</td>\n      <td>0.0</td>\n      <td>0.0</td>\n      <td>SCHWARZE DAME</td>\n      <td>Schwarze Dame</td>\n      <td>0.0</td>\n      <td>0.0</td>\n    </tr>\n    <tr>\n      <th>43932</th>\n      <td>6462121008</td>\n      <td>ST</td>\n      <td>TCM PLATZSETS</td>\n      <td>580304</td>\n      <td>5.0</td>\n      <td>49.95</td>\n      <td>9.99</td>\n      <td>9.99</td>\n      <td>0.00</td>\n      <td>Unknown</td>\n      <td>...</td>\n      <td>Unknown</td>\n      <td>0.0</td>\n      <td>Unknown</td>\n      <td>0.0</td>\n      <td>0.0</td>\n      <td>0.0</td>\n      <td>TCM PLATZSETS RUND 4ST</td>\n      <td>TCM Platzsets rund 4ST</td>\n      <td>0.0</td>\n      <td>0.0</td>\n    </tr>\n  </tbody>\n</table>\n<p>43933 rows × 30 columns</p>\n</div>"
     },
     "execution_count": 2,
     "metadata": {},
     "output_type": "execute_result"
    }
   ],
   "source": [
    "file_path = 'article_info.csv'\n",
    "data = pd.read_csv(file_path)\n",
    "\n",
    "data.dropna(how='all', inplace=True)\n",
    "\n",
    "data.columns = [\n",
    "    \"item_id\", \"measure_code\", \"description\", \"waregroup\", \"sold_units\", \"sales_euro\", \n",
    "    \"min_article_price\", \"max_article_price\", \"advertised_price\", \"currently_advertised\", \n",
    "    \"plu_number\", \"article_type\", \"zzvlabel\", \"zzbundle\", \"zzthema\", \"zzfarblos\", \n",
    "    \"zzno_brand\", \"zzregion\", \"zzsaison\", \"zzursprung\", \"zzarztfrei\", \"zzfett_gehalt\", \n",
    "    \"zzalkgehalt\", \"zzmaktx\", \"zzverkehrsbez\", \"zzdiaet\", \"zzvegan\", \"zzverkehrsbez_2\", \n",
    "    \"zzdiaet_2\", \"zzvegan_2\"\n",
    "]\n",
    "\n",
    "numeric_cols = data.select_dtypes(include=['float64', 'int64']).columns\n",
    "data[numeric_cols] = data[numeric_cols].fillna(0)\n",
    "\n",
    "categorical_cols = data.select_dtypes(include=['object']).columns\n",
    "data[categorical_cols] = data[categorical_cols].fillna(\"Unknown\")\n",
    "\n",
    "data[\"item_id\"] = data[\"item_id\"].astype(\"Int64\")\n",
    "data[\"waregroup\"] = data[\"waregroup\"].astype(\"Int64\")\n",
    "data"
   ],
   "metadata": {
    "collapsed": false,
    "ExecuteTime": {
     "end_time": "2024-10-11T22:46:09.018200100Z",
     "start_time": "2024-10-11T22:46:08.785234300Z"
    }
   },
   "id": "1e7ef4c0bbebbdb9",
   "execution_count": 2
  },
  {
   "cell_type": "code",
   "outputs": [],
   "source": [
    "db_path = 'cleaned_data.db'\n",
    "with sqlite3.connect(db_path) as conn:\n",
    "    data.to_sql('article_info', conn, if_exists='replace', index=False)\n"
   ],
   "metadata": {
    "collapsed": false,
    "ExecuteTime": {
     "end_time": "2024-10-11T22:46:10.244916400Z",
     "start_time": "2024-10-11T22:46:10.029690200Z"
    }
   },
   "id": "a4f7ffe1d5c91998",
   "execution_count": 3
  },
  {
   "cell_type": "code",
   "outputs": [],
   "source": [],
   "metadata": {
    "collapsed": false
   },
   "id": "5d1974ea8e745fa4"
  }
 ],
 "metadata": {
  "kernelspec": {
   "display_name": "Python 3",
   "language": "python",
   "name": "python3"
  },
  "language_info": {
   "codemirror_mode": {
    "name": "ipython",
    "version": 2
   },
   "file_extension": ".py",
   "mimetype": "text/x-python",
   "name": "python",
   "nbconvert_exporter": "python",
   "pygments_lexer": "ipython2",
   "version": "2.7.6"
  }
 },
 "nbformat": 4,
 "nbformat_minor": 5
}
